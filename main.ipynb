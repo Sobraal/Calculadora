{
  "nbformat": 4,
  "nbformat_minor": 0,
  "metadata": {
    "colab": {
      "provenance": [],
      "authorship_tag": "ABX9TyNlhpsEtzJ2bxunFEHTV1Sf",
      "include_colab_link": true
    },
    "kernelspec": {
      "name": "python3",
      "display_name": "Python 3"
    },
    "language_info": {
      "name": "python"
    }
  },
  "cells": [
    {
      "cell_type": "markdown",
      "metadata": {
        "id": "view-in-github",
        "colab_type": "text"
      },
      "source": [
        "<a href=\"https://colab.research.google.com/github/Sobraal/Calculadora/blob/main/main.ipynb\" target=\"_parent\"><img src=\"https://colab.research.google.com/assets/colab-badge.svg\" alt=\"Open In Colab\"/></a>"
      ]
    },
    {
      "cell_type": "code",
      "execution_count": 8,
      "metadata": {
        "colab": {
          "base_uri": "https://localhost:8080/"
        },
        "id": "8YB9H_TiZJSL",
        "outputId": "2b003445-f978-4f80-bcec-4deca4594d21"
      },
      "outputs": [
        {
          "output_type": "stream",
          "name": "stdout",
          "text": [
            "Bem-vindo á Calculadora\n",
            "Insira o primeiro numero: 56\n",
            "Insira o segundo numero: 2\n",
            "Selecione uma operação (+, -, *, /): /\n",
            "O resultado é :  28.0\n"
          ]
        }
      ],
      "source": [
        "print (\"Bem-vindo á Calculadora\")\n",
        "num1 = float(input(\"Insira o primeiro numero: \"))\n",
        "num2 = float(input(\"Insira o segundo numero: \"))\n",
        "operacao = input(\"Selecione uma operação (+, -, *, /): \")\n",
        "if operacao == \"+\":\n",
        "  resultado = num1 + num2\n",
        "  print (\"O resultado é :\", resultado)\n",
        "\n",
        "elif operacao == \"-\":\n",
        "  resultado = num1 - num2\n",
        "  print(\"O resultado é : \", resultado)\n",
        "\n",
        "elif operacao == \"*\":\n",
        "  resultado = num1 * num2\n",
        "  print (\"O resultado é :\", resultado)\n",
        "\n",
        "elif operacao == \"/\":\n",
        "  resultado = num1 / num2\n",
        "  print(\"O resultado é : \", resultado)\n",
        "\n",
        "else:\n",
        "  print (\"Operação invalida.\")\n"
      ]
    }
  ]
}